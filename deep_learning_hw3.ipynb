{
  "nbformat": 4,
  "nbformat_minor": 0,
  "metadata": {
    "anaconda-cloud": {},
    "kernelspec": {
      "display_name": "Python 3",
      "name": "python3"
    },
    "language_info": {
      "codemirror_mode": {
        "name": "ipython",
        "version": 3
      },
      "file_extension": ".py",
      "mimetype": "text/x-python",
      "name": "python",
      "nbconvert_exporter": "python",
      "pygments_lexer": "ipython3",
      "version": "3.6.6"
    },
    "colab": {
      "provenance": [],
      "collapsed_sections": [
        "yY9fztIeWIKt"
      ],
      "gpuType": "T4"
    },
    "accelerator": "GPU"
  },
  "cells": [
    {
      "cell_type": "markdown",
      "metadata": {
        "id": "cW-EyI5Lxpqi"
      },
      "source": [
        "# Copyright\n",
        "\n",
        "<PRE>\n",
        "Copyright (c) 2024 Bálint Gyires-Tóth - All Rights Reserved\n",
        "You may use and modify this code for research and development purpuses.\n",
        "Using this code for educational purposes (self-paced or instructor led) without the permission of the author is prohibited.\n",
        "</PRE>"
      ]
    },
    {
      "cell_type": "markdown",
      "source": [
        "# Example of data exploration, modeling, regulartion and prediction\n",
        "Our exercise today involves loading a standard dataset using TensorFlow Keras API, exploring the data, building a simple neural network, and evaluating the effects of basic methods (activation functions, regularization, weight initialization, etc.). We then perform predictions on the test set and inspect the results."
      ],
      "metadata": {
        "id": "3EX4cCa4WKJu"
      }
    },
    {
      "cell_type": "markdown",
      "source": [
        "# 1. Data\n",
        "The dataset we will use is the well-known CIFAR10 (Canadian Institute For Advanced Research). Explore the details on the Keras website first: https://keras.io/api/datasets/cifar10/\n",
        "\n",
        "After you explored the basic features of the data, let's load it into the memory and explore the shapes:"
      ],
      "metadata": {
        "id": "yY9fztIeWIKt"
      }
    },
    {
      "cell_type": "code",
      "source": [
        "from tensorflow.keras.datasets import cifar10\n",
        "from tensorflow.keras.utils import to_categorical\n",
        "import numpy as np"
      ],
      "metadata": {
        "id": "giRZKTjzX_7l"
      },
      "execution_count": 2,
      "outputs": []
    },
    {
      "cell_type": "code",
      "source": [
        "(X_train, Y_train), (X_test, Y_test) = cifar10.load_data()"
      ],
      "metadata": {
        "id": "bez7q0eiWQCK"
      },
      "execution_count": 3,
      "outputs": []
    },
    {
      "cell_type": "code",
      "source": [
        "print(X_train.shape)\n",
        "print(X_test.shape)\n",
        "print(Y_train.shape)\n",
        "print(Y_test.shape)"
      ],
      "metadata": {
        "id": "2tJoRq5wXywi",
        "colab": {
          "base_uri": "https://localhost:8080/"
        },
        "outputId": "5405ed58-fb7b-44f2-be80-f4e635656212"
      },
      "execution_count": 4,
      "outputs": [
        {
          "output_type": "stream",
          "name": "stdout",
          "text": [
            "(50000, 32, 32, 3)\n",
            "(10000, 32, 32, 3)\n",
            "(50000, 1)\n",
            "(10000, 1)\n"
          ]
        }
      ]
    },
    {
      "cell_type": "markdown",
      "source": [
        "## 1.1. Exercise\n",
        "Display the first ten images of the training data. Hints:\n",
        "* Axis 0 refers to the separate images, e.g. X_train[0]\n",
        "* You can use the [Matplotlib Pyplot imshow function](https://matplotlib.org/stable/api/_as_gen/matplotlib.pyplot.imshow.html) for displaying the image. Just don't forget to import Plotly first!\n",
        "* A corresponding example, but you have to modify the code for your purpose: https://stackoverflow.com/questions/46615554/how-to-display-multiple-images-in-one-figure-correctly"
      ],
      "metadata": {
        "id": "zTCSGFyDlNvf"
      }
    },
    {
      "cell_type": "code",
      "source": [
        "import matplotlib.pyplot as plt\n",
        "import numpy as np\n",
        "\n",
        "plt.figure(figsize=(10,10))\n",
        "\n",
        "class_names = [\"airplane\", \"automobile\", \"bird\", \"cat\", \"deer\", \"dog\", \"frog\", \"horse\", \"ship\", \"truck\"]\n",
        "\n",
        "for i in range(10):\n",
        "    plt.subplot(5,5,i+1)\n",
        "    plt.xticks([])\n",
        "    plt.yticks([])\n",
        "    plt.grid(False)\n",
        "    plt.imshow(X_train[i], cmap=plt.cm.binary)\n",
        "    plt.xlabel(class_names[int(Y_train[i])])\n",
        "plt.show()"
      ],
      "metadata": {
        "id": "hIQhHTppmBdO",
        "colab": {
          "base_uri": "https://localhost:8080/",
          "height": 0
        },
        "outputId": "1298b408-96ae-4575-8262-684e7b86e6c2"
      },
      "execution_count": 5,
      "outputs": [
        {
          "output_type": "stream",
          "name": "stderr",
          "text": [
            "<ipython-input-5-29055f76a3af>:14: DeprecationWarning: Conversion of an array with ndim > 0 to a scalar is deprecated, and will error in future. Ensure you extract a single element from your array before performing this operation. (Deprecated NumPy 1.25.)\n",
            "  plt.xlabel(class_names[int(Y_train[i])])\n"
          ]
        },
        {
          "output_type": "display_data",
          "data": {
            "text/plain": [
              "<Figure size 1000x1000 with 10 Axes>"
            ],
            "image/png": "[encoded data removed]"
          },
          "metadata": {}
        }
      ]
    },
    {
      "cell_type": "markdown",
      "source": [
        "Print the corresponding labels of the displayed images from the target variable (Y_train):"
      ],
      "metadata": {
        "id": "FAQkUWlmm-bc"
      }
    },
    {
      "cell_type": "code",
      "source": [
        "for i in range(10):\n",
        "  print(class_names[int(Y_train[i])])"
      ],
      "metadata": {
        "id": "AkOrWzghnJ78",
        "colab": {
          "base_uri": "https://localhost:8080/"
        },
        "outputId": "68344995-8ff2-4e63-ab19-a24489669631"
      },
      "execution_count": 6,
      "outputs": [
        {
          "output_type": "stream",
          "name": "stdout",
          "text": [
            "frog\n",
            "truck\n",
            "truck\n",
            "deer\n",
            "automobile\n",
            "automobile\n",
            "bird\n",
            "horse\n",
            "ship\n",
            "cat\n"
          ]
        },
        {
          "output_type": "stream",
          "name": "stderr",
          "text": [
            "<ipython-input-6-a2af64877968>:2: DeprecationWarning: Conversion of an array with ndim > 0 to a scalar is deprecated, and will error in future. Ensure you extract a single element from your array before performing this operation. (Deprecated NumPy 1.25.)\n",
            "  print(class_names[int(Y_train[i])])\n"
          ]
        }
      ]
    },
    {
      "cell_type": "markdown",
      "source": [
        "## 1.2. Exercise\n",
        "We will train a Multi-Layer Perceptron (MLP), which requires a 2 dimensional input: 0th axis refers to the datapoints (i.e. images), the 1th dimens to the input. As images are 3 dimensional (width, height, color channels), you have to reshape the images into vectors. We also call this flattening.\n",
        "\n",
        "In order to do so, calculate the size of the equivalent 1D vector of the image:"
      ],
      "metadata": {
        "id": "VX24g5FstsRU"
      }
    },
    {
      "cell_type": "code",
      "source": [
        "import keras\n",
        "\n",
        "flattened_dim = X_train.shape[1] * X_train.shape[2] * X_train.shape[3]\n",
        "print(flattened_dim)"
      ],
      "metadata": {
        "id": "hdoMyxHzuXZG",
        "colab": {
          "base_uri": "https://localhost:8080/"
        },
        "outputId": "58779af9-f34c-41c5-8a8c-04c30eea27bc"
      },
      "execution_count": 7,
      "outputs": [
        {
          "output_type": "stream",
          "name": "stdout",
          "text": [
            "3072\n"
          ]
        }
      ]
    },
    {
      "cell_type": "markdown",
      "source": [
        "After you calculated it, we can reshape the images, and covert the integer arrays into float arrays -- which are needed for the neural networks as input. Hint:\n",
        "* in the [reshape() function of Numpy](https://www.w3schools.com/python/numpy/numpy_array_reshape.asp) you can use -1 for one axis, to automatically calculate that value."
      ],
      "metadata": {
        "id": "WbqXJUSFubeC"
      }
    },
    {
      "cell_type": "code",
      "source": [
        "# reshape 3D tensors to 2D tensors\n",
        "X_train = X_train.reshape(-1, flattened_dim)\n",
        "X_test = X_test.reshape(-1, flattened_dim)\n",
        "\n",
        "# it is in int8 format, the neural network requires float32\n",
        "X_train = X_train.astype('float32')\n",
        "X_test = X_test.astype('float32')\n",
        "\n",
        "print(X_train)"
      ],
      "metadata": {
        "id": "vukOcBM0XzSj",
        "colab": {
          "base_uri": "https://localhost:8080/"
        },
        "outputId": "57f6bd54-9ffa-402d-9992-167c4bbd9ee6"
      },
      "execution_count": 8,
      "outputs": [
        {
          "output_type": "stream",
          "name": "stdout",
          "text": [
            "[[ 59.  62.  63. ... 123.  92.  72.]\n",
            " [154. 177. 187. ... 143. 133. 144.]\n",
            " [255. 255. 255. ...  80.  86.  84.]\n",
            " ...\n",
            " [ 35. 178. 235. ...  12.  31.  50.]\n",
            " [189. 211. 240. ... 195. 190. 171.]\n",
            " [229. 229. 239. ... 163. 163. 161.]]\n"
          ]
        }
      ]
    },
    {
      "cell_type": "markdown",
      "source": [
        "## 1.3. Exercise\n",
        "As the next step, let's split the training data into training and validation data. 80% of the original training data should be the final training data, and 20% the validation.\n",
        "You should use Numpy indexing to select the first 80% of X_train as final X_train, and the last 20% as X_valid. Hints:\n",
        "* https://datascienceparichay.com/article/numpy-array-first-n-rows/\n",
        "* https://datascienceparichay.com/article/numpy-array-last-n-rows/"
      ],
      "metadata": {
        "id": "DO79AdIdvVfD"
      }
    },
    {
      "cell_type": "code",
      "source": [
        "train_ratio  = 0.8\n",
        "train_length = len(X_train) # length of the training data\n",
        "train_split  = int(train_ratio * train_length) # where to split the training and validation data\n",
        "X_valid, Y_valid = X_train[train_split:, :], Y_train[train_split:, :]\n",
        "X_train, Y_train = X_train[:train_split, :], Y_train[:train_split, :]\n",
        "\n",
        "\n",
        "# always check for the number of unique elt's to see if its balanced (train/valid)\n",
        "for i in np.unique(Y_train):\n",
        "  print(len(Y_train[Y_train==i]))"
      ],
      "metadata": {
        "id": "mRwuWxxIxLgN",
        "colab": {
          "base_uri": "https://localhost:8080/"
        },
        "outputId": "10505263-2db4-4bb7-8961-5e2f0644e282"
      },
      "execution_count": 9,
      "outputs": [
        {
          "output_type": "stream",
          "name": "stdout",
          "text": [
            "3986\n",
            "3986\n",
            "4048\n",
            "3984\n",
            "4003\n",
            "3975\n",
            "4020\n",
            "4023\n",
            "3997\n",
            "3978\n"
          ]
        }
      ]
    },
    {
      "cell_type": "markdown",
      "source": [
        "## 1.4. Exercise\n",
        "As the last step of input data preparation, the data should be standardized. Calculate the mean and variance of the training data (elementvise -- so for each value of the flattened image you should get a mean and variance for the training data along 0th axis). Hint:\n",
        "* https://stackoverflow.com/questions/70626231/how-to-calculate-mean-variance-standard-deviation-per-index-of-array"
      ],
      "metadata": {
        "id": "z05y_QWDxWER"
      }
    },
    {
      "cell_type": "code",
      "source": [
        "mean = np.mean(X_train, axis=0)\n",
        "std  = np.std(X_train, axis=0)\n",
        "\n",
        "print(mean,std)"
      ],
      "metadata": {
        "id": "TSZbvWCBx8Ea",
        "colab": {
          "base_uri": "https://localhost:8080/"
        },
        "outputId": "dca22356-b5a4-42e8-a201-6d4844b54e18"
      },
      "execution_count": 10,
      "outputs": [
        {
          "output_type": "stream",
          "name": "stdout",
          "text": [
            "[130.89912 136.1391  132.54753 ... 126.86372 126.03545 114.5743 ] [73.39984  72.94052  80.44044  ... 65.066635 62.781673 66.23674 ]\n"
          ]
        }
      ]
    },
    {
      "cell_type": "markdown",
      "source": [
        "Next, use the resulting values to standardize the training, validation and test data by substracting the mean and dividing the result with the standard deviation."
      ],
      "metadata": {
        "id": "6WRHKkkjyN1S"
      }
    },
    {
      "cell_type": "code",
      "source": [
        "X_train = (X_train - mean)/std\n",
        "X_valid = (X_valid - mean)/std\n",
        "X_test  = (X_test - mean)/std"
      ],
      "metadata": {
        "id": "2ESLP1EIyB2J"
      },
      "execution_count": 11,
      "outputs": []
    },
    {
      "cell_type": "markdown",
      "source": [
        "## 1.5. Exercise\n",
        "And as the last step, convert the dense representation of the classes (i.e. 0,1,2,3...9) to one-hot encoding (0 = [1 0 0 0 0 0 0 0 0 0], 1 = [0 1 0 0 0 0 0 0 0 0] ... 9 = [0 0 0 0 0 0 0 0 0 1]). To do this, first, calculate the number of unique elements in the target training data. Hints:\n",
        "* use the [unique() function](https://numpy.org/doc/stable/reference/generated/numpy.unique.html) of Numpy to list the unique elements\n",
        "* you can count the number of elements in a list with the [len() function](https://www.w3schools.com/python/ref_func_len.asp)"
      ],
      "metadata": {
        "id": "ooHCnUin7r4o"
      }
    },
    {
      "cell_type": "code",
      "source": [
        "nb_classes = len(np.unique(Y_train))\n",
        "\n",
        "print(nb_classes)\n"
      ],
      "metadata": {
        "id": "i0LAO9cs8KEE",
        "colab": {
          "base_uri": "https://localhost:8080/"
        },
        "outputId": "595c6e12-d19a-4e05-82db-2555a01c5650"
      },
      "execution_count": 12,
      "outputs": [
        {
          "output_type": "stream",
          "name": "stdout",
          "text": [
            "10\n"
          ]
        }
      ]
    },
    {
      "cell_type": "markdown",
      "source": [
        "Doublecheck, if the same number of classes exists in the validation and test target data:"
      ],
      "metadata": {
        "id": "BvM6XhGe8JU9"
      }
    },
    {
      "cell_type": "code",
      "source": [
        "print(\"Validation data has the same number of classes, as the training data:\", nb_classes == len(np.unique(Y_valid)))\n",
        "print(\"Test data has the same number of classes, as the training data:\", nb_classes == len(np.unique(Y_test)))"
      ],
      "metadata": {
        "id": "eZFNSsyx_Py2",
        "colab": {
          "base_uri": "https://localhost:8080/"
        },
        "outputId": "3d75f383-ca59-43a9-9373-4116aedc49f3"
      },
      "execution_count": 13,
      "outputs": [
        {
          "output_type": "stream",
          "name": "stdout",
          "text": [
            "Validation data has the same number of classes, as the training data: True\n",
            "Test data has the same number of classes, as the training data: True\n"
          ]
        }
      ]
    },
    {
      "cell_type": "markdown",
      "source": [
        "And convert the dense representation into one-hot encoding. Hint:\n",
        "* use the [to_categorical function](https://www.tensorflow.org/api_docs/python/tf/keras/utils/to_categorical) with the calculated nb_classes\n"
      ],
      "metadata": {
        "id": "mJM-iBmR8dLe"
      }
    },
    {
      "cell_type": "code",
      "source": [
        "Y_train = to_categorical(Y_train, num_classes=nb_classes)\n",
        "Y_valid = to_categorical(Y_valid, num_classes=nb_classes)\n",
        "Y_test  = to_categorical(Y_test, num_classes=nb_classes)"
      ],
      "metadata": {
        "id": "xwZ4OJ6I8lba"
      },
      "execution_count": 14,
      "outputs": []
    },
    {
      "cell_type": "markdown",
      "source": [
        "## Final check of data preparation\n",
        "Now, lets check the shapes and mean and standard deviation of the training, validation and test data."
      ],
      "metadata": {
        "id": "LshN2OSsv3TZ"
      }
    },
    {
      "cell_type": "code",
      "source": [
        "print(\"Shapes of the training, validation and test input data:\", X_train.shape, X_valid.shape, X_test.shape)\n",
        "print(\"Shapes of the training, validation and test output data:\", Y_train.shape, Y_valid.shape, Y_test.shape)\n",
        "print(\"Mean values of the training, validation and test input data:\", X_train.mean(), X_valid.mean(), X_test.mean())\n",
        "print(\"Standard deviation of the training, validation and test input data:\", X_train.std(), X_valid.std(), X_test.std())"
      ],
      "metadata": {
        "id": "O_jdJVcvX0vi",
        "colab": {
          "base_uri": "https://localhost:8080/"
        },
        "outputId": "d26302e7-d4e3-40e5-eef1-bc7cfe20594a"
      },
      "execution_count": 15,
      "outputs": [
        {
          "output_type": "stream",
          "name": "stdout",
          "text": [
            "Shapes of the training, validation and test input data: (40000, 3072) (10000, 3072) (10000, 3072)\n",
            "Shapes of the training, validation and test output data: (40000, 10) (10000, 10) (10000, 10)\n",
            "Mean values of the training, validation and test input data: -2.4725992e-09 0.0023437182 0.013331188\n",
            "Standard deviation of the training, validation and test input data: 1.0000038 0.99656224 0.9978297\n"
          ]
        }
      ]
    },
    {
      "cell_type": "markdown",
      "source": [
        "Don't worry, if the mean and standard deviation of the validation and test data are not exactly 0 and 1, but these might be very mear to it (e.g. 0.01 mean, 0.99 variance)."
      ],
      "metadata": {
        "id": "5GtAOOoezmZY"
      }
    },
    {
      "cell_type": "markdown",
      "metadata": {
        "id": "cJ14oyZExpqj"
      },
      "source": [
        "# 2. Training"
      ]
    },
    {
      "cell_type": "markdown",
      "metadata": {
        "id": "s4ZXYRMBxpql"
      },
      "source": [
        "Let us begin with a simple example of creating a small neural network without regularization and training it with actual data. The purpose of this is to provide you with an example as to how to proceed with the next exercise."
      ]
    },
    {
      "cell_type": "code",
      "source": [
        "# imports\n",
        "import numpy as np\n",
        "import matplotlib.pyplot as plt\n",
        "from tensorflow.keras.models import Sequential\n",
        "from tensorflow.keras.layers import Dense, Embedding, Flatten, Dropout\n",
        "from tensorflow.keras.initializers import HeNormal\n",
        "from tensorflow.keras.callbacks import EarlyStopping"
      ],
      "metadata": {
        "id": "6-8Q6ll7ZDgq"
      },
      "execution_count": 16,
      "outputs": []
    },
    {
      "cell_type": "code",
      "source": [
        "# model definition\n",
        "model = Sequential()\n",
        "model.add(Dense(128, activation='tanh', input_shape=(flattened_dim,)))\n",
        "model.add(Dense(128, activation='tanh'))\n",
        "model.add(Dense(nb_classes, activation='softmax'))\n",
        "\n",
        "# loss function and optimizer\n",
        "model.compile(loss='categorical_crossentropy', optimizer='adam', metrics=['accuracy'])"
      ],
      "metadata": {
        "id": "pke6w3CD8DHp"
      },
      "execution_count": 17,
      "outputs": []
    },
    {
      "cell_type": "code",
      "metadata": {
        "id": "CZbOR76QxprC",
        "colab": {
          "base_uri": "https://localhost:8080/"
        },
        "outputId": "1a24db99-d588-4eda-bc72-a0c4b88a00ae"
      },
      "source": [
        "# training\n",
        "network_history = model.fit(X_train, Y_train,\n",
        "                            validation_data=(X_valid,Y_valid),\n",
        "                            batch_size=128,\n",
        "                            epochs=40,\n",
        "                            verbose=1)"
      ],
      "execution_count": 18,
      "outputs": [
        {
          "output_type": "stream",
          "name": "stdout",
          "text": [
            "Epoch 1/40\n",
            "313/313 [==============================] - 5s 13ms/step - loss: 1.8223 - accuracy: 0.3645 - val_loss: 1.7836 - val_accuracy: 0.3745\n",
            "Epoch 2/40\n",
            "313/313 [==============================] - 4s 13ms/step - loss: 1.6963 - accuracy: 0.4109 - val_loss: 1.7216 - val_accuracy: 0.4073\n",
            "Epoch 3/40\n",
            "313/313 [==============================] - 5s 16ms/step - loss: 1.6383 - accuracy: 0.4333 - val_loss: 1.7094 - val_accuracy: 0.4122\n",
            "Epoch 4/40\n",
            "313/313 [==============================] - 4s 12ms/step - loss: 1.6010 - accuracy: 0.4451 - val_loss: 1.6877 - val_accuracy: 0.4192\n",
            "Epoch 5/40\n",
            "313/313 [==============================] - 4s 12ms/step - loss: 1.5625 - accuracy: 0.4600 - val_loss: 1.6708 - val_accuracy: 0.4250\n",
            "Epoch 6/40\n",
            "313/313 [==============================] - 5s 16ms/step - loss: 1.5354 - accuracy: 0.4656 - val_loss: 1.6635 - val_accuracy: 0.4281\n",
            "Epoch 7/40\n",
            "313/313 [==============================] - 4s 13ms/step - loss: 1.4987 - accuracy: 0.4809 - val_loss: 1.6543 - val_accuracy: 0.4287\n",
            "Epoch 8/40\n",
            "313/313 [==============================] - 4s 13ms/step - loss: 1.4745 - accuracy: 0.4863 - val_loss: 1.6419 - val_accuracy: 0.4321\n",
            "Epoch 9/40\n",
            "313/313 [==============================] - 5s 16ms/step - loss: 1.4541 - accuracy: 0.4979 - val_loss: 1.6320 - val_accuracy: 0.4305\n",
            "Epoch 10/40\n",
            "313/313 [==============================] - 4s 13ms/step - loss: 1.4229 - accuracy: 0.5078 - val_loss: 1.6276 - val_accuracy: 0.4404\n",
            "Epoch 11/40\n",
            "313/313 [==============================] - 4s 13ms/step - loss: 1.3995 - accuracy: 0.5107 - val_loss: 1.6357 - val_accuracy: 0.4401\n",
            "Epoch 12/40\n",
            "313/313 [==============================] - 5s 16ms/step - loss: 1.3788 - accuracy: 0.5227 - val_loss: 1.6214 - val_accuracy: 0.4439\n",
            "Epoch 13/40\n",
            "313/313 [==============================] - 4s 12ms/step - loss: 1.3555 - accuracy: 0.5306 - val_loss: 1.6191 - val_accuracy: 0.4435\n",
            "Epoch 14/40\n",
            "313/313 [==============================] - 4s 13ms/step - loss: 1.3267 - accuracy: 0.5398 - val_loss: 1.6140 - val_accuracy: 0.4529\n",
            "Epoch 15/40\n",
            "313/313 [==============================] - 5s 16ms/step - loss: 1.3062 - accuracy: 0.5465 - val_loss: 1.6296 - val_accuracy: 0.4422\n",
            "Epoch 16/40\n",
            "313/313 [==============================] - 4s 14ms/step - loss: 1.2880 - accuracy: 0.5540 - val_loss: 1.6270 - val_accuracy: 0.4522\n",
            "Epoch 17/40\n",
            "313/313 [==============================] - 4s 12ms/step - loss: 1.2740 - accuracy: 0.5585 - val_loss: 1.6188 - val_accuracy: 0.4515\n",
            "Epoch 18/40\n",
            "313/313 [==============================] - 5s 15ms/step - loss: 1.2539 - accuracy: 0.5621 - val_loss: 1.6236 - val_accuracy: 0.4500\n",
            "Epoch 19/40\n",
            "313/313 [==============================] - 4s 13ms/step - loss: 1.2295 - accuracy: 0.5736 - val_loss: 1.6317 - val_accuracy: 0.4528\n",
            "Epoch 20/40\n",
            "313/313 [==============================] - 4s 13ms/step - loss: 1.2086 - accuracy: 0.5805 - val_loss: 1.6280 - val_accuracy: 0.4550\n",
            "Epoch 21/40\n",
            "313/313 [==============================] - 6s 18ms/step - loss: 1.1855 - accuracy: 0.5910 - val_loss: 1.6282 - val_accuracy: 0.4548\n",
            "Epoch 22/40\n",
            "313/313 [==============================] - 4s 13ms/step - loss: 1.1698 - accuracy: 0.5929 - val_loss: 1.6370 - val_accuracy: 0.4582\n",
            "Epoch 23/40\n",
            "313/313 [==============================] - 4s 13ms/step - loss: 1.1509 - accuracy: 0.6012 - val_loss: 1.6463 - val_accuracy: 0.4556\n",
            "Epoch 24/40\n",
            "313/313 [==============================] - 5s 16ms/step - loss: 1.1367 - accuracy: 0.6072 - val_loss: 1.6631 - val_accuracy: 0.4473\n",
            "Epoch 25/40\n",
            "313/313 [==============================] - 4s 13ms/step - loss: 1.1207 - accuracy: 0.6095 - val_loss: 1.6564 - val_accuracy: 0.4536\n",
            "Epoch 26/40\n",
            "313/313 [==============================] - 4s 13ms/step - loss: 1.1014 - accuracy: 0.6199 - val_loss: 1.6655 - val_accuracy: 0.4513\n",
            "Epoch 27/40\n",
            "313/313 [==============================] - 5s 16ms/step - loss: 1.0826 - accuracy: 0.6259 - val_loss: 1.6666 - val_accuracy: 0.4545\n",
            "Epoch 28/40\n",
            "313/313 [==============================] - 4s 13ms/step - loss: 1.0641 - accuracy: 0.6308 - val_loss: 1.6861 - val_accuracy: 0.4513\n",
            "Epoch 29/40\n",
            "313/313 [==============================] - 4s 13ms/step - loss: 1.0545 - accuracy: 0.6339 - val_loss: 1.6739 - val_accuracy: 0.4554\n",
            "Epoch 30/40\n",
            "313/313 [==============================] - 5s 15ms/step - loss: 1.0369 - accuracy: 0.6401 - val_loss: 1.7172 - val_accuracy: 0.4491\n",
            "Epoch 31/40\n",
            "313/313 [==============================] - 4s 13ms/step - loss: 1.0190 - accuracy: 0.6479 - val_loss: 1.7068 - val_accuracy: 0.4531\n",
            "Epoch 32/40\n",
            "313/313 [==============================] - 4s 12ms/step - loss: 1.0031 - accuracy: 0.6530 - val_loss: 1.7309 - val_accuracy: 0.4498\n",
            "Epoch 33/40\n",
            "313/313 [==============================] - 5s 16ms/step - loss: 0.9907 - accuracy: 0.6573 - val_loss: 1.7479 - val_accuracy: 0.4465\n",
            "Epoch 34/40\n",
            "313/313 [==============================] - 4s 13ms/step - loss: 0.9816 - accuracy: 0.6626 - val_loss: 1.7522 - val_accuracy: 0.4489\n",
            "Epoch 35/40\n",
            "313/313 [==============================] - 4s 12ms/step - loss: 0.9703 - accuracy: 0.6620 - val_loss: 1.7419 - val_accuracy: 0.4535\n",
            "Epoch 36/40\n",
            "313/313 [==============================] - 5s 16ms/step - loss: 0.9335 - accuracy: 0.6790 - val_loss: 1.7795 - val_accuracy: 0.4428\n",
            "Epoch 37/40\n",
            "313/313 [==============================] - 4s 13ms/step - loss: 0.9327 - accuracy: 0.6796 - val_loss: 1.7888 - val_accuracy: 0.4441\n",
            "Epoch 38/40\n",
            "313/313 [==============================] - 4s 13ms/step - loss: 0.9114 - accuracy: 0.6878 - val_loss: 1.7962 - val_accuracy: 0.4466\n",
            "Epoch 39/40\n",
            "313/313 [==============================] - 5s 16ms/step - loss: 0.8951 - accuracy: 0.6943 - val_loss: 1.8170 - val_accuracy: 0.4455\n",
            "Epoch 40/40\n",
            "313/313 [==============================] - 4s 13ms/step - loss: 0.8838 - accuracy: 0.6950 - val_loss: 1.8197 - val_accuracy: 0.4486\n"
          ]
        }
      ]
    },
    {
      "cell_type": "markdown",
      "metadata": {
        "id": "uFqhzV85xprJ"
      },
      "source": [
        "Let's plot the training and validation loss and accuracy curves:"
      ]
    },
    {
      "cell_type": "code",
      "metadata": {
        "id": "BYmXGkLCxprK",
        "colab": {
          "base_uri": "https://localhost:8080/",
          "height": 881
        },
        "outputId": "64ce8da8-25d5-4ee8-bc30-e7c18c4455d2"
      },
      "source": [
        "def plot_history(network_history):\n",
        "    plt.figure()\n",
        "    plt.xlabel('Epochs')\n",
        "    plt.ylabel('Loss')\n",
        "    plt.plot(network_history.history['loss'])\n",
        "    plt.plot(network_history.history['val_loss'])\n",
        "    plt.legend(['Training', 'Validation'])\n",
        "\n",
        "    plt.figure()\n",
        "    plt.xlabel('Epochs')\n",
        "    plt.ylabel('Accuracy')\n",
        "    plt.plot(network_history.history['accuracy'])\n",
        "    plt.plot(network_history.history['val_accuracy'])\n",
        "    plt.legend(['Training', 'Validation'], loc='lower right')\n",
        "    plt.show()\n",
        "\n",
        "plot_history(network_history)"
      ],
      "execution_count": 19,
      "outputs": [
        {
          "output_type": "display_data",
          "data": {
            "text/plain": [
              "<Figure size 640x480 with 1 Axes>"
            ],
            "image/png": "[encoded data removed]"
          },
          "metadata": {}
        },
        {
          "output_type": "display_data",
          "data": {
            "text/plain": [
              "<Figure size 640x480 with 1 Axes>"
            ],
            "image/png": "[encoded data removed]"
          },
          "metadata": {}
        }
      ]
    },
    {
      "cell_type": "markdown",
      "source": [
        "What do you think? Does it overfit?"
      ],
      "metadata": {
        "id": "tgG7QeXF-dx6"
      }
    },
    {
      "cell_type": "markdown",
      "metadata": {
        "id": "_Q9rIeBBxprO"
      },
      "source": [
        "# Inspecting the model"
      ]
    },
    {
      "cell_type": "code",
      "metadata": {
        "id": "6r2AmmoMxprP",
        "colab": {
          "base_uri": "https://localhost:8080/"
        },
        "outputId": "c54df2a7-a705-43fe-9d51-01d2041bda2a"
      },
      "source": [
        "model.summary()"
      ],
      "execution_count": 20,
      "outputs": [
        {
          "output_type": "stream",
          "name": "stdout",
          "text": [
            "Model: \"sequential\"\n",
            "_________________________________________________________________\n",
            " Layer (type)                Output Shape              Param #   \n",
            "=================================================================\n",
            " dense (Dense)               (None, 128)               393344    \n",
            "                                                                 \n",
            " dense_1 (Dense)             (None, 128)               16512     \n",
            "                                                                 \n",
            " dense_2 (Dense)             (None, 10)                1290      \n",
            "                                                                 \n",
            "=================================================================\n",
            "Total params: 411146 (1.57 MB)\n",
            "Trainable params: 411146 (1.57 MB)\n",
            "Non-trainable params: 0 (0.00 Byte)\n",
            "_________________________________________________________________\n"
          ]
        }
      ]
    },
    {
      "cell_type": "code",
      "metadata": {
        "id": "D3-bVDVuxprS",
        "colab": {
          "base_uri": "https://localhost:8080/"
        },
        "outputId": "87806e2d-8f15-41ce-ab04-8a8e5b1c791a"
      },
      "source": [
        "print('Input: ', model.input)"
      ],
      "execution_count": 21,
      "outputs": [
        {
          "output_type": "stream",
          "name": "stdout",
          "text": [
            "Input:  KerasTensor(type_spec=TensorSpec(shape=(None, 3072), dtype=tf.float32, name='dense_input'), name='dense_input', description=\"created by layer 'dense_input'\")\n"
          ]
        }
      ]
    },
    {
      "cell_type": "code",
      "metadata": {
        "id": "Da2OJ3DmxprX",
        "colab": {
          "base_uri": "https://localhost:8080/"
        },
        "outputId": "723884aa-38cf-41e7-d1f2-88291cea9ed4"
      },
      "source": [
        "print('Layers:\\n')\n",
        "for layer in model.layers:\n",
        "    print(\"Layer's name: \", layer.name, ', trainable: ', layer.trainable)\n",
        "    print(layer.get_config(),'\\n')"
      ],
      "execution_count": 22,
      "outputs": [
        {
          "output_type": "stream",
          "name": "stdout",
          "text": [
            "Layers:\n",
            "\n",
            "Layer's name:  dense , trainable:  True\n",
            "{'name': 'dense', 'trainable': True, 'dtype': 'float32', 'batch_input_shape': (None, 3072), 'units': 128, 'activation': 'tanh', 'use_bias': True, 'kernel_initializer': {'module': 'keras.initializers', 'class_name': 'GlorotUniform', 'config': {'seed': None}, 'registered_name': None}, 'bias_initializer': {'module': 'keras.initializers', 'class_name': 'Zeros', 'config': {}, 'registered_name': None}, 'kernel_regularizer': None, 'bias_regularizer': None, 'activity_regularizer': None, 'kernel_constraint': None, 'bias_constraint': None} \n",
            "\n",
            "Layer's name:  dense_1 , trainable:  True\n",
            "{'name': 'dense_1', 'trainable': True, 'dtype': 'float32', 'units': 128, 'activation': 'tanh', 'use_bias': True, 'kernel_initializer': {'module': 'keras.initializers', 'class_name': 'GlorotUniform', 'config': {'seed': None}, 'registered_name': None}, 'bias_initializer': {'module': 'keras.initializers', 'class_name': 'Zeros', 'config': {}, 'registered_name': None}, 'kernel_regularizer': None, 'bias_regularizer': None, 'activity_regularizer': None, 'kernel_constraint': None, 'bias_constraint': None} \n",
            "\n",
            "Layer's name:  dense_2 , trainable:  True\n",
            "{'name': 'dense_2', 'trainable': True, 'dtype': 'float32', 'units': 10, 'activation': 'softmax', 'use_bias': True, 'kernel_initializer': {'module': 'keras.initializers', 'class_name': 'GlorotUniform', 'config': {'seed': None}, 'registered_name': None}, 'bias_initializer': {'module': 'keras.initializers', 'class_name': 'Zeros', 'config': {}, 'registered_name': None}, 'kernel_regularizer': None, 'bias_regularizer': None, 'activity_regularizer': None, 'kernel_constraint': None, 'bias_constraint': None} \n",
            "\n"
          ]
        }
      ]
    },
    {
      "cell_type": "code",
      "metadata": {
        "id": "AtVX3M3lxprc",
        "colab": {
          "base_uri": "https://localhost:8080/"
        },
        "outputId": "cdcf7bc7-79d7-4f66-b737-40969403d88a"
      },
      "source": [
        "print('Output: ', model.output)"
      ],
      "execution_count": 23,
      "outputs": [
        {
          "output_type": "stream",
          "name": "stdout",
          "text": [
            "Output:  KerasTensor(type_spec=TensorSpec(shape=(None, 10), dtype=tf.float32, name=None), name='dense_2/Softmax:0', description=\"created by layer 'dense_2'\")\n"
          ]
        }
      ]
    },
    {
      "cell_type": "markdown",
      "source": [
        "## 2.1. Exercise\n",
        "Introduce [early stopping](https://www.tensorflow.org/api_docs/python/tf/keras/callbacks/EarlyStopping) and [dropout](https://www.tensorflow.org/api_docs/python/tf/keras/layers/Dropout) with a rate between 0.1..0.5. Tips:\n",
        "\n",
        "* Insert the dropout layer between the two Dense layers.\n",
        "* Set the patience of early stopping to 5.\n",
        "* Set the number of epochs to a very high number.\n",
        "* Don't forget to restore best weights after early stopping.\n",
        "* And also set early stopping to monitor validation accuracy (the default value is validation loss -- which is categorical crossentropy now).\n",
        "\n",
        "Compile and train the model. Attempt to increase the validation accuracy as much as possible by making changes to the dropout rate. Inspect the effects of the modifications."
      ],
      "metadata": {
        "id": "E-hHfs9qA_iO"
      }
    },
    {
      "cell_type": "code",
      "source": [
        "es = EarlyStopping(patience = 5, monitor = 'val_accuracy', restore_best_weights=True)\n",
        "rate = 0.1\n",
        "# 0.1 -> .4614\n",
        "# 0.2 -> .4753\n",
        "# 0.3 -> .4729\n",
        "# 0.4 -> .4606\n",
        "# 0.5 -> .4650\n"
      ],
      "metadata": {
        "id": "NwXrPzOgEBG-"
      },
      "execution_count": 24,
      "outputs": []
    },
    {
      "cell_type": "code",
      "source": [
        "# model definition with dropout\n",
        "model = Sequential()\n",
        "model.add(Dense(128, activation='tanh', input_shape=(flattened_dim,)))\n",
        "model.add(Dropout(rate))\n",
        "model.add(Dense(128, activation='tanh'))\n",
        "model.add(Dense(nb_classes, activation='softmax'))\n",
        "\n",
        "# loss function and optimizer\n",
        "model.compile(loss='categorical_crossentropy', optimizer='adam', metrics=['accuracy'])"
      ],
      "metadata": {
        "id": "7hZEGzj8GFwP"
      },
      "execution_count": 25,
      "outputs": []
    },
    {
      "cell_type": "code",
      "source": [
        "# training with early stopping\n",
        "network_history = model.fit(X_train, Y_train,\n",
        "                            validation_data=(X_valid,Y_valid),\n",
        "                            batch_size=128,\n",
        "                            epochs=500,\n",
        "                            verbose=1,\n",
        "                            callbacks=[es])"
      ],
      "metadata": {
        "id": "GCG54R-vGGWj",
        "colab": {
          "base_uri": "https://localhost:8080/"
        },
        "outputId": "cc8176a1-1623-4779-a9cb-de44a7371b73"
      },
      "execution_count": 26,
      "outputs": [
        {
          "output_type": "stream",
          "name": "stdout",
          "text": [
            "Epoch 1/500\n",
            "313/313 [==============================] - 5s 14ms/step - loss: 1.8408 - accuracy: 0.3525 - val_loss: 1.7705 - val_accuracy: 0.3797\n",
            "Epoch 2/500\n",
            "313/313 [==============================] - 4s 14ms/step - loss: 1.7197 - accuracy: 0.4016 - val_loss: 1.7254 - val_accuracy: 0.3978\n",
            "Epoch 3/500\n",
            "313/313 [==============================] - 4s 14ms/step - loss: 1.6735 - accuracy: 0.4158 - val_loss: 1.6882 - val_accuracy: 0.4089\n",
            "Epoch 4/500\n",
            "313/313 [==============================] - 4s 12ms/step - loss: 1.6336 - accuracy: 0.4328 - val_loss: 1.6970 - val_accuracy: 0.4100\n",
            "Epoch 5/500\n",
            "313/313 [==============================] - 4s 14ms/step - loss: 1.6034 - accuracy: 0.4430 - val_loss: 1.6611 - val_accuracy: 0.4240\n",
            "Epoch 6/500\n",
            "313/313 [==============================] - 5s 15ms/step - loss: 1.5798 - accuracy: 0.4530 - val_loss: 1.6500 - val_accuracy: 0.4311\n",
            "Epoch 7/500\n",
            "313/313 [==============================] - 4s 12ms/step - loss: 1.5513 - accuracy: 0.4627 - val_loss: 1.6331 - val_accuracy: 0.4331\n",
            "Epoch 8/500\n",
            "313/313 [==============================] - 5s 15ms/step - loss: 1.5308 - accuracy: 0.4678 - val_loss: 1.6264 - val_accuracy: 0.4301\n",
            "Epoch 9/500\n",
            "313/313 [==============================] - 5s 17ms/step - loss: 1.5124 - accuracy: 0.4753 - val_loss: 1.6206 - val_accuracy: 0.4372\n",
            "Epoch 10/500\n",
            "313/313 [==============================] - 4s 13ms/step - loss: 1.4890 - accuracy: 0.4826 - val_loss: 1.6018 - val_accuracy: 0.4451\n",
            "Epoch 11/500\n",
            "313/313 [==============================] - 4s 13ms/step - loss: 1.4689 - accuracy: 0.4896 - val_loss: 1.5939 - val_accuracy: 0.4524\n",
            "Epoch 12/500\n",
            "313/313 [==============================] - 5s 14ms/step - loss: 1.4477 - accuracy: 0.4968 - val_loss: 1.6019 - val_accuracy: 0.4454\n",
            "Epoch 13/500\n",
            "313/313 [==============================] - 4s 13ms/step - loss: 1.4403 - accuracy: 0.4985 - val_loss: 1.5992 - val_accuracy: 0.4471\n",
            "Epoch 14/500\n",
            "313/313 [==============================] - 4s 13ms/step - loss: 1.4204 - accuracy: 0.5095 - val_loss: 1.5918 - val_accuracy: 0.4507\n",
            "Epoch 15/500\n",
            "313/313 [==============================] - 5s 15ms/step - loss: 1.4059 - accuracy: 0.5114 - val_loss: 1.5816 - val_accuracy: 0.4530\n",
            "Epoch 16/500\n",
            "313/313 [==============================] - 4s 12ms/step - loss: 1.3953 - accuracy: 0.5142 - val_loss: 1.5784 - val_accuracy: 0.4456\n",
            "Epoch 17/500\n",
            "313/313 [==============================] - 5s 15ms/step - loss: 1.3811 - accuracy: 0.5171 - val_loss: 1.5667 - val_accuracy: 0.4585\n",
            "Epoch 18/500\n",
            "313/313 [==============================] - 4s 14ms/step - loss: 1.3674 - accuracy: 0.5221 - val_loss: 1.5795 - val_accuracy: 0.4519\n",
            "Epoch 19/500\n",
            "313/313 [==============================] - 4s 13ms/step - loss: 1.3600 - accuracy: 0.5249 - val_loss: 1.5746 - val_accuracy: 0.4525\n",
            "Epoch 20/500\n",
            "313/313 [==============================] - 4s 14ms/step - loss: 1.3385 - accuracy: 0.5337 - val_loss: 1.5732 - val_accuracy: 0.4545\n",
            "Epoch 21/500\n",
            "313/313 [==============================] - 4s 14ms/step - loss: 1.3280 - accuracy: 0.5357 - val_loss: 1.5734 - val_accuracy: 0.4547\n",
            "Epoch 22/500\n",
            "313/313 [==============================] - 4s 12ms/step - loss: 1.3136 - accuracy: 0.5408 - val_loss: 1.5712 - val_accuracy: 0.4576\n"
          ]
        }
      ]
    },
    {
      "cell_type": "markdown",
      "source": [
        "## 2.2 Exercise\n",
        "Change the [activation function of the dense layers (except the last one)](https://www.tensorflow.org/api_docs/python/tf/keras/layers/Dense) to rectified linear unit (ReLU) and the [weight initialization](https://www.tensorflow.org/api_docs/python/tf/keras/initializers) to the theoretically best one. Use the original model's code.\n",
        "\n",
        "Compile and train the model. Inspect the effects of the modifications."
      ],
      "metadata": {
        "id": "zQCDM1o1BBtF"
      }
    },
    {
      "cell_type": "code",
      "source": [
        "# model definition with relu\n",
        "model = Sequential()\n",
        "model.add(Dense(128, activation='relu', kernel_initializer='he_uniform', input_shape=(flattened_dim,)))\n",
        "model.add(Dense(128, activation='relu', kernel_initializer='he_normal'))\n",
        "model.add(Dense(nb_classes, activation='softmax'))\n",
        "\n",
        "# loss function and optimizer\n",
        "model.compile(loss='categorical_crossentropy', optimizer='adam', metrics=['accuracy'])"
      ],
      "metadata": {
        "id": "YjHAAh-wGu9O"
      },
      "execution_count": 27,
      "outputs": []
    },
    {
      "cell_type": "code",
      "source": [
        "# training\n",
        "network_history = model.fit(X_train, Y_train,\n",
        "                            validation_data=(X_valid,Y_valid),\n",
        "                            batch_size=128,\n",
        "                            epochs=40,\n",
        "                            verbose=1)"
      ],
      "metadata": {
        "id": "rarwKM1wGxMz",
        "colab": {
          "base_uri": "https://localhost:8080/"
        },
        "outputId": "a6967852-b402-43c3-adf6-43e472c2ef17"
      },
      "execution_count": 28,
      "outputs": [
        {
          "output_type": "stream",
          "name": "stdout",
          "text": [
            "Epoch 1/40\n",
            "313/313 [==============================] - 6s 17ms/step - loss: 1.8606 - accuracy: 0.3725 - val_loss: 1.7020 - val_accuracy: 0.4114\n",
            "Epoch 2/40\n",
            "313/313 [==============================] - 4s 12ms/step - loss: 1.5509 - accuracy: 0.4610 - val_loss: 1.5782 - val_accuracy: 0.4523\n",
            "Epoch 3/40\n",
            "313/313 [==============================] - 7s 23ms/step - loss: 1.4181 - accuracy: 0.5024 - val_loss: 1.5381 - val_accuracy: 0.4656\n",
            "Epoch 4/40\n",
            "313/313 [==============================] - 7s 23ms/step - loss: 1.3319 - accuracy: 0.5347 - val_loss: 1.5382 - val_accuracy: 0.4733\n",
            "Epoch 5/40\n",
            "313/313 [==============================] - 4s 11ms/step - loss: 1.2628 - accuracy: 0.5580 - val_loss: 1.5128 - val_accuracy: 0.4841\n",
            "Epoch 6/40\n",
            "313/313 [==============================] - 4s 13ms/step - loss: 1.2070 - accuracy: 0.5767 - val_loss: 1.5295 - val_accuracy: 0.4878\n",
            "Epoch 7/40\n",
            "313/313 [==============================] - 4s 14ms/step - loss: 1.1485 - accuracy: 0.5969 - val_loss: 1.5336 - val_accuracy: 0.4799\n",
            "Epoch 8/40\n",
            "313/313 [==============================] - 4s 12ms/step - loss: 1.1008 - accuracy: 0.6139 - val_loss: 1.5266 - val_accuracy: 0.4976\n",
            "Epoch 9/40\n",
            "313/313 [==============================] - 4s 13ms/step - loss: 1.0552 - accuracy: 0.6296 - val_loss: 1.5518 - val_accuracy: 0.4948\n",
            "Epoch 10/40\n",
            "313/313 [==============================] - 5s 15ms/step - loss: 1.0124 - accuracy: 0.6452 - val_loss: 1.5764 - val_accuracy: 0.4965\n",
            "Epoch 11/40\n",
            "313/313 [==============================] - 4s 13ms/step - loss: 0.9705 - accuracy: 0.6599 - val_loss: 1.6046 - val_accuracy: 0.4913\n",
            "Epoch 12/40\n",
            "313/313 [==============================] - 4s 12ms/step - loss: 0.9345 - accuracy: 0.6744 - val_loss: 1.6135 - val_accuracy: 0.4969\n",
            "Epoch 13/40\n",
            "313/313 [==============================] - 5s 15ms/step - loss: 0.8856 - accuracy: 0.6901 - val_loss: 1.6783 - val_accuracy: 0.4938\n",
            "Epoch 14/40\n",
            "313/313 [==============================] - 4s 12ms/step - loss: 0.8546 - accuracy: 0.7009 - val_loss: 1.7220 - val_accuracy: 0.4893\n",
            "Epoch 15/40\n",
            "313/313 [==============================] - 4s 13ms/step - loss: 0.8121 - accuracy: 0.7151 - val_loss: 1.7308 - val_accuracy: 0.4928\n",
            "Epoch 16/40\n",
            "313/313 [==============================] - 5s 15ms/step - loss: 0.7872 - accuracy: 0.7238 - val_loss: 1.7736 - val_accuracy: 0.4907\n",
            "Epoch 17/40\n",
            "313/313 [==============================] - 4s 13ms/step - loss: 0.7540 - accuracy: 0.7352 - val_loss: 1.8351 - val_accuracy: 0.4774\n",
            "Epoch 18/40\n",
            "313/313 [==============================] - 4s 13ms/step - loss: 0.7208 - accuracy: 0.7469 - val_loss: 1.8964 - val_accuracy: 0.4821\n",
            "Epoch 19/40\n",
            "313/313 [==============================] - 5s 15ms/step - loss: 0.6925 - accuracy: 0.7608 - val_loss: 1.8850 - val_accuracy: 0.4916\n",
            "Epoch 20/40\n",
            "313/313 [==============================] - 4s 13ms/step - loss: 0.6565 - accuracy: 0.7721 - val_loss: 1.9383 - val_accuracy: 0.4914\n",
            "Epoch 21/40\n",
            "313/313 [==============================] - 4s 13ms/step - loss: 0.6336 - accuracy: 0.7798 - val_loss: 1.9892 - val_accuracy: 0.4809\n",
            "Epoch 22/40\n",
            "313/313 [==============================] - 5s 15ms/step - loss: 0.6104 - accuracy: 0.7857 - val_loss: 2.0702 - val_accuracy: 0.4872\n",
            "Epoch 23/40\n",
            "313/313 [==============================] - 4s 13ms/step - loss: 0.5899 - accuracy: 0.7911 - val_loss: 2.1257 - val_accuracy: 0.4848\n",
            "Epoch 24/40\n",
            "313/313 [==============================] - 4s 13ms/step - loss: 0.5568 - accuracy: 0.8038 - val_loss: 2.1635 - val_accuracy: 0.4931\n",
            "Epoch 25/40\n",
            "313/313 [==============================] - 5s 15ms/step - loss: 0.5384 - accuracy: 0.8110 - val_loss: 2.2123 - val_accuracy: 0.4873\n",
            "Epoch 26/40\n",
            "313/313 [==============================] - 4s 13ms/step - loss: 0.5186 - accuracy: 0.8150 - val_loss: 2.3509 - val_accuracy: 0.4794\n",
            "Epoch 27/40\n",
            "313/313 [==============================] - 4s 13ms/step - loss: 0.5054 - accuracy: 0.8207 - val_loss: 2.3298 - val_accuracy: 0.4866\n",
            "Epoch 28/40\n",
            "313/313 [==============================] - 5s 15ms/step - loss: 0.4754 - accuracy: 0.8331 - val_loss: 2.4355 - val_accuracy: 0.4794\n",
            "Epoch 29/40\n",
            "313/313 [==============================] - 4s 12ms/step - loss: 0.4596 - accuracy: 0.8393 - val_loss: 2.4691 - val_accuracy: 0.4851\n",
            "Epoch 30/40\n",
            "313/313 [==============================] - 4s 13ms/step - loss: 0.4462 - accuracy: 0.8446 - val_loss: 2.5281 - val_accuracy: 0.4865\n",
            "Epoch 31/40\n",
            "313/313 [==============================] - 5s 16ms/step - loss: 0.4335 - accuracy: 0.8472 - val_loss: 2.6029 - val_accuracy: 0.4794\n",
            "Epoch 32/40\n",
            "313/313 [==============================] - 4s 12ms/step - loss: 0.4098 - accuracy: 0.8572 - val_loss: 2.6537 - val_accuracy: 0.4849\n",
            "Epoch 33/40\n",
            "313/313 [==============================] - 4s 11ms/step - loss: 0.3889 - accuracy: 0.8646 - val_loss: 2.7916 - val_accuracy: 0.4773\n",
            "Epoch 34/40\n",
            "313/313 [==============================] - 5s 16ms/step - loss: 0.3953 - accuracy: 0.8599 - val_loss: 2.7988 - val_accuracy: 0.4724\n",
            "Epoch 35/40\n",
            "313/313 [==============================] - 4s 12ms/step - loss: 0.3819 - accuracy: 0.8644 - val_loss: 2.9086 - val_accuracy: 0.4774\n",
            "Epoch 36/40\n",
            "313/313 [==============================] - 4s 12ms/step - loss: 0.3612 - accuracy: 0.8749 - val_loss: 2.9063 - val_accuracy: 0.4761\n",
            "Epoch 37/40\n",
            "313/313 [==============================] - 5s 15ms/step - loss: 0.3510 - accuracy: 0.8771 - val_loss: 3.0057 - val_accuracy: 0.4831\n",
            "Epoch 38/40\n",
            "313/313 [==============================] - 4s 13ms/step - loss: 0.3364 - accuracy: 0.8847 - val_loss: 3.0487 - val_accuracy: 0.4752\n",
            "Epoch 39/40\n",
            "313/313 [==============================] - 4s 13ms/step - loss: 0.3406 - accuracy: 0.8806 - val_loss: 3.0939 - val_accuracy: 0.4756\n",
            "Epoch 40/40\n",
            "313/313 [==============================] - 5s 16ms/step - loss: 0.3207 - accuracy: 0.8878 - val_loss: 3.2043 - val_accuracy: 0.4764\n"
          ]
        }
      ]
    },
    {
      "cell_type": "markdown",
      "source": [
        "# 2.3. Exercise\n",
        "Based on the modifications above, and by any further modifications (e.g. more layers, less layers, more neurons/layer, etc.) to the model design, find a combination that is able to achieve **validation accuracy, that is higher than 53%**.\n"
      ],
      "metadata": {
        "id": "j1tGVPdD-pp3"
      }
    },
    {
      "cell_type": "code",
      "source": [
        "es = EarlyStopping(patience = 5, monitor = 'val_accuracy', restore_best_weights=True)\n",
        "rate = 0.2"
      ],
      "metadata": {
        "id": "5dBQxJHIHrbd"
      },
      "execution_count": 29,
      "outputs": []
    },
    {
      "cell_type": "code",
      "source": [
        "# model definition\n",
        "model = Sequential()\n",
        "model.add(Dense(128, activation='relu', kernel_initializer='he_uniform', input_shape=(flattened_dim,)))\n",
        "model.add(Dropout(rate))\n",
        "model.add(Dense(128*3, activation='relu', kernel_initializer='he_normal'))\n",
        "# model.add(Dense(128, activation='relu', kernel_initializer='he_normal'))\n",
        "model.add(Dropout(rate))\n",
        "\n",
        "# model.add(Dense(128, activation='relu', kernel_initializer='he_normal'))\n",
        "model.add(Dense(128*3, activation='relu', kernel_initializer='he_normal'))\n",
        "# model.add(Dropout(rate))\n",
        "# model.add(Dense(128, activation='relu', kernel_initializer='he_normal'))\n",
        "model.add(Dense(nb_classes, activation='softmax'))\n",
        "\n",
        "# loss function and optimizer\n",
        "model.compile(loss='categorical_crossentropy', optimizer='adam', metrics=['accuracy'])"
      ],
      "metadata": {
        "id": "PuxHOqLt-3Nd"
      },
      "execution_count": 30,
      "outputs": []
    },
    {
      "cell_type": "code",
      "source": [
        "# training\n",
        "network_history = model.fit(X_train, Y_train,\n",
        "                            validation_data=(X_valid,Y_valid),\n",
        "                            batch_size=128,\n",
        "                            epochs=500,\n",
        "                            verbose=1,\n",
        "                            callbacks=[es])"
      ],
      "metadata": {
        "id": "u8tFNCNVHyt9",
        "colab": {
          "base_uri": "https://localhost:8080/"
        },
        "outputId": "87a1018c-41e8-4c7b-abe7-43809b67bb74"
      },
      "execution_count": 31,
      "outputs": [
        {
          "output_type": "stream",
          "name": "stdout",
          "text": [
            "Epoch 1/500\n",
            "313/313 [==============================] - 7s 19ms/step - loss: 2.0076 - accuracy: 0.3137 - val_loss: 1.6816 - val_accuracy: 0.4061\n",
            "Epoch 2/500\n",
            "313/313 [==============================] - 6s 21ms/step - loss: 1.7125 - accuracy: 0.3931 - val_loss: 1.5973 - val_accuracy: 0.4464\n",
            "Epoch 3/500\n",
            "313/313 [==============================] - 5s 17ms/step - loss: 1.6166 - accuracy: 0.4257 - val_loss: 1.5442 - val_accuracy: 0.4559\n",
            "Epoch 4/500\n",
            "313/313 [==============================] - 6s 20ms/step - loss: 1.5572 - accuracy: 0.4469 - val_loss: 1.5115 - val_accuracy: 0.4685\n",
            "Epoch 5/500\n",
            "313/313 [==============================] - 5s 17ms/step - loss: 1.5101 - accuracy: 0.4631 - val_loss: 1.4784 - val_accuracy: 0.4796\n",
            "Epoch 6/500\n",
            "313/313 [==============================] - 6s 21ms/step - loss: 1.4729 - accuracy: 0.4746 - val_loss: 1.4728 - val_accuracy: 0.4830\n",
            "Epoch 7/500\n",
            "313/313 [==============================] - 5s 17ms/step - loss: 1.4440 - accuracy: 0.4835 - val_loss: 1.4533 - val_accuracy: 0.4940\n",
            "Epoch 8/500\n",
            "313/313 [==============================] - 6s 19ms/step - loss: 1.4170 - accuracy: 0.4957 - val_loss: 1.4493 - val_accuracy: 0.4939\n",
            "Epoch 9/500\n",
            "313/313 [==============================] - 6s 18ms/step - loss: 1.3925 - accuracy: 0.5060 - val_loss: 1.4195 - val_accuracy: 0.5040\n",
            "Epoch 10/500\n",
            "313/313 [==============================] - 5s 17ms/step - loss: 1.3663 - accuracy: 0.5127 - val_loss: 1.4178 - val_accuracy: 0.5019\n",
            "Epoch 11/500\n",
            "313/313 [==============================] - 6s 20ms/step - loss: 1.3428 - accuracy: 0.5214 - val_loss: 1.4141 - val_accuracy: 0.5064\n",
            "Epoch 12/500\n",
            "313/313 [==============================] - 5s 18ms/step - loss: 1.3268 - accuracy: 0.5277 - val_loss: 1.4282 - val_accuracy: 0.5012\n",
            "Epoch 13/500\n",
            "313/313 [==============================] - 6s 20ms/step - loss: 1.3098 - accuracy: 0.5347 - val_loss: 1.3844 - val_accuracy: 0.5154\n",
            "Epoch 14/500\n",
            "313/313 [==============================] - 5s 17ms/step - loss: 1.2873 - accuracy: 0.5437 - val_loss: 1.3948 - val_accuracy: 0.5122\n",
            "Epoch 15/500\n",
            "313/313 [==============================] - 6s 20ms/step - loss: 1.2689 - accuracy: 0.5498 - val_loss: 1.3898 - val_accuracy: 0.5187\n",
            "Epoch 16/500\n",
            "313/313 [==============================] - 5s 17ms/step - loss: 1.2556 - accuracy: 0.5488 - val_loss: 1.3615 - val_accuracy: 0.5241\n",
            "Epoch 17/500\n",
            "313/313 [==============================] - 6s 20ms/step - loss: 1.2448 - accuracy: 0.5546 - val_loss: 1.3689 - val_accuracy: 0.5177\n",
            "Epoch 18/500\n",
            "313/313 [==============================] - 5s 17ms/step - loss: 1.2211 - accuracy: 0.5677 - val_loss: 1.3738 - val_accuracy: 0.5257\n",
            "Epoch 19/500\n",
            "313/313 [==============================] - 7s 21ms/step - loss: 1.2138 - accuracy: 0.5663 - val_loss: 1.3702 - val_accuracy: 0.5204\n",
            "Epoch 20/500\n",
            "313/313 [==============================] - 5s 17ms/step - loss: 1.1933 - accuracy: 0.5755 - val_loss: 1.3567 - val_accuracy: 0.5294\n",
            "Epoch 21/500\n",
            "313/313 [==============================] - 6s 20ms/step - loss: 1.1818 - accuracy: 0.5792 - val_loss: 1.3596 - val_accuracy: 0.5359\n",
            "Epoch 22/500\n",
            "313/313 [==============================] - 6s 18ms/step - loss: 1.1696 - accuracy: 0.5819 - val_loss: 1.3625 - val_accuracy: 0.5267\n",
            "Epoch 23/500\n",
            "313/313 [==============================] - 5s 17ms/step - loss: 1.1500 - accuracy: 0.5844 - val_loss: 1.3487 - val_accuracy: 0.5376\n",
            "Epoch 24/500\n",
            "313/313 [==============================] - 6s 20ms/step - loss: 1.1477 - accuracy: 0.5906 - val_loss: 1.3598 - val_accuracy: 0.5300\n",
            "Epoch 25/500\n",
            "313/313 [==============================] - 5s 17ms/step - loss: 1.1357 - accuracy: 0.5923 - val_loss: 1.3602 - val_accuracy: 0.5304\n",
            "Epoch 26/500\n",
            "313/313 [==============================] - 6s 20ms/step - loss: 1.1213 - accuracy: 0.6003 - val_loss: 1.3603 - val_accuracy: 0.5289\n",
            "Epoch 27/500\n",
            "313/313 [==============================] - 5s 17ms/step - loss: 1.1093 - accuracy: 0.6043 - val_loss: 1.3575 - val_accuracy: 0.5299\n",
            "Epoch 28/500\n",
            "313/313 [==============================] - 6s 20ms/step - loss: 1.0958 - accuracy: 0.6079 - val_loss: 1.3662 - val_accuracy: 0.5305\n"
          ]
        }
      ]
    },
    {
      "cell_type": "markdown",
      "source": [
        "# 3. Evaluation on test data and inference\n",
        "At this point, we will perform a basic evaluation and inference. With the model.evaluate function, the same metrics are calculated, that were used during training:"
      ],
      "metadata": {
        "id": "2FtKp-a2-A9m"
      }
    },
    {
      "cell_type": "code",
      "source": [
        "print(model.evaluate(X_test, Y_test))"
      ],
      "metadata": {
        "id": "I3_9wgDREUna",
        "colab": {
          "base_uri": "https://localhost:8080/"
        },
        "outputId": "2f2d605a-1958-4303-e823-dffe5d234009"
      },
      "execution_count": 32,
      "outputs": [
        {
          "output_type": "stream",
          "name": "stdout",
          "text": [
            "313/313 [==============================] - 1s 3ms/step - loss: 1.3312 - accuracy: 0.5322\n",
            "[1.3311930894851685, 0.5321999788284302]\n"
          ]
        }
      ]
    },
    {
      "cell_type": "markdown",
      "source": [
        "we would like to see similar values, as in the validation set. If those are close to each other, then the generalization ability of the model is good (in case of an independent test-set)."
      ],
      "metadata": {
        "id": "ECHguBFtGL7f"
      }
    },
    {
      "cell_type": "markdown",
      "source": [
        "## 3.1. Exercise\n",
        "Predict the class of the first 10 elements in the test set, and compare the predicted values with the actual, target values in the test set. Hints:\n",
        "* you can use [model.predict](https://www.activestate.com/resources/quick-reads/how-to-use-a-model-to-do-predictions-with-keras/) for prediction\n",
        "* from the output you can select the largest value with the [argmax() function of Numpy](https://stackoverflow.com/questions/62358642/convert-one-hot-encoding-back-to-number-label). As there are multiple values, you have to call it with axis=1 parameter.\n",
        "* it is enought to compare the predictions and the targets by printing the values out and inspecting them."
      ],
      "metadata": {
        "id": "0Io4zYJeHjz6"
      }
    },
    {
      "cell_type": "code",
      "source": [
        "preds = model.predict(X_test[:10])\n",
        "preds_dense = np.argmax(preds,axis=1)"
      ],
      "metadata": {
        "id": "XEEyU7exILqF",
        "colab": {
          "base_uri": "https://localhost:8080/"
        },
        "outputId": "ef9cf91d-7f0f-4c39-ebda-1560335fa5ae"
      },
      "execution_count": 33,
      "outputs": [
        {
          "output_type": "stream",
          "name": "stdout",
          "text": [
            "1/1 [==============================] - 0s 101ms/step\n"
          ]
        }
      ]
    },
    {
      "cell_type": "markdown",
      "source": [
        "Before comparision, you have to convert back the one-hot encoded target values the same way, as you converted the output of the neural network to class values with argmax() function."
      ],
      "metadata": {
        "id": "seZTEFI-I5cZ"
      }
    },
    {
      "cell_type": "code",
      "source": [
        "print(\"Target labels:\", np.argmax(Y_test[:10],axis=1))\n",
        "print(\"Predicted labels:\", preds_dense)"
      ],
      "metadata": {
        "id": "PHLvoMuIIkJ6",
        "colab": {
          "base_uri": "https://localhost:8080/"
        },
        "outputId": "e1414bdf-d5c6-4ae6-fe3d-60a84c8cbe8c"
      },
      "execution_count": 34,
      "outputs": [
        {
          "output_type": "stream",
          "name": "stdout",
          "text": [
            "Target labels: [3 8 8 0 6 6 1 6 3 1]\n",
            "Predicted labels: [4 8 8 8 4 6 3 6 3 1]\n"
          ]
        }
      ]
    },
    {
      "cell_type": "code",
      "source": [],
      "metadata": {
        "id": "Hf3n8s2V3rzz"
      },
      "execution_count": 34,
      "outputs": []
    }
  ]
}